{
 "metadata": {
  "name": "",
  "signature": "sha256:aff8b4ff0ff881f0a7eca1d16eabc813e439093d866536a36f8ee002441d5f6a"
 },
 "nbformat": 3,
 "nbformat_minor": 0,
 "worksheets": [
  {
   "cells": [
    {
     "cell_type": "markdown",
     "metadata": {},
     "source": [
      "##ExHAIL orbit planning\n",
      "\n",
      "In this notebook I capture issues concerning the ExHAIL orbit planning.\n",
      "\n",
      "    2016-02-03:  Current thinking is that we need at least two orbit planes to meet science requirements. Trying to achieve that with natural precession of the nodes.\n",
      "\n",
      "Equations used:\n",
      "\n",
      "* approximate nodal precession rate, aka nodal regression, or rate of ascending note advance:    $\\omega_np = - \\frac{3}{2} \\frac{R_E^2}{(a(1-e^2))^2} \\;  \\omega \\; J_2 \\; \\cos(i) $\n",
      "  \n",
      "* eccentricity:    $e = | \\frac{R_E}{a} - 1 |$\n",
      "\n",
      "* approximate apsidal precession, aka advance of perigee in the plane of the orbit is: $\\omega_ap = \\frac{3}{4} \\frac{R_E^2}{(a(1-e^2))^2}  \\; \\omega \\; J_2 \\; ( 5\\cos(i)^2 - 1) $.\n",
      "\n"
     ]
    },
    {
     "cell_type": "markdown",
     "metadata": {},
     "source": [
      "### Orbit precession"
     ]
    },
    {
     "cell_type": "code",
     "collapsed": false,
     "input": [
      "\n",
      "def eccentricity (RE, ra):\n",
      "        ## ra and rp are apoapsis and periapsis, respectively\n",
      "    return np.abs((RE/ra) - 1)\n",
      "    \n",
      "###\n",
      "\n",
      "def nodal_precession(majorAxis, ecc, omega, incl):\n",
      "    \n",
      "        ## constants\n",
      "    J2 = 1.08262668E-3   ## Earth's oblateness\n",
      "    RE = 6378.137 * 1000.       ## in km\n",
      "    \n",
      "    return (-3./2.) * np.power(RE,2) / np.power(majorAxis * (1 - np.power(ecc,2)), 2) * omega * np.cos(incl) * J2\n",
      "\n",
      "###\n",
      "\n",
      "def apsidal_precession(majorAxis, ecc, omega, incl):\n",
      "        \n",
      "        ## constants\n",
      "    J2 = 1.08262668E-3   ## Earth's oblateness\n",
      "    RE = 6378.137 * 1000.       ## in km\n",
      "    \n",
      "    return (3./4.) * np.power(RE,2) / np.power(majorAxis * (1 - np.power(ecc,2)), 2) * omega * J2 * (5 * np.power(np.cos(incl),2) - 1) \n",
      "\n",
      "### ### ### MAIN BODY ### ### ###\n",
      "    \n",
      "import numpy as np\n",
      "\n",
      "    ## constants\n",
      "RE = 6378.137 * 1000.      ## in km\n",
      "\n",
      "    ## user input\n",
      "    \n",
      "perigee = 350. * 1000.\n",
      "apogee = 2550. * 1000.\n",
      "inclination = 82.\n",
      "inclDelta = 2.\n",
      "inclRad = inclination * np.pi/180.\n",
      "semiMajor = (apogee + perigee + 2 * RE) / 2. \n",
      "\n",
      "eccentr = eccentricity(RE, semiMajor)\n",
      "#semiMinor = semiMajor ( 1 - eccentr )\n",
      "\n",
      "\n",
      "    ## period\n",
      "T = 2. * np.pi * np.sqrt(np.power(semiMajor,3) / (3.986004418 * 1E14))\n",
      "omega = 2 * np.pi / T\n",
      "\n",
      "print(\"Eccentricity and period:\",eccentr, T/60.,\"\\n\")\n",
      "print(\"Nodal Precession\\n\")\n",
      "\n",
      "    ## nodal precession\n",
      "\n",
      "inclMin = 80.\n",
      "inclMax = 84.\n",
      "inclStep = 1.0\n",
      "    \n",
      "for x in np.arange(inclMin, inclMax, inclStep):\n",
      "    inclination = x\n",
      "    inclRad = x * np.pi/180.\n",
      "    nodalPrec = nodal_precession(semiMajor, eccentr, omega, inclRad)\n",
      "    print(inclination, nodalPrec * 180./np.pi*3600 * 24., \" per day\", nodalPrec * 180./np.pi*3600 * 24.*30., \"per month\", \\\n",
      "          nodalPrec * 180./np.pi*3600 * 24.*365.25, \"per year\")\n",
      "\n",
      "print(\"\\nApsidal Precession\\n\")\n",
      "for x in np.arange(inclMin, inclMax, inclStep):\n",
      "    inclination = x\n",
      "    inclRad = x * np.pi/180.\n",
      "    apsPrec = apsidal_precession(semiMajor, eccentr, omega, inclRad)\n",
      "    print(inclination, apsPrec * 180./np.pi*3600 * 24., \" per day\", apsPrec * 180./np.pi*3600 * 24.*30., \"per month\", \\\n",
      "          apsPrec * 180./np.pi*3600 * 24.*365.25, \"per year\")\n"
     ],
     "language": "python",
     "metadata": {},
     "outputs": [
      {
       "output_type": "stream",
       "stream": "stdout",
       "text": [
        "Eccentricity and period: 0.185229256974 114.880774958 \n",
        "\n",
        "Nodal Precession\n",
        "\n",
        "80.0 -0.905843399633  per day -27.175301989 per month -330.859301716 per year\n",
        "81.0 -0.816047306316  per day -24.4814191895 per month -298.061278632 per year\n",
        "82.0 -0.726002637085  per day -21.7800791125 per month -265.172463195 per year\n",
        "83.0 -0.635736820417  per day -19.0721046125 per month -232.202873657 per year\n",
        "\n",
        "Apsidal Precession\n",
        "\n",
        "80.0 -2.21502697708  per day -66.4508093125 per month -809.03860338 per year\n",
        "81.0 -2.28912730655  per day -68.6738191965 per month -836.103748718 per year\n",
        "82.0 -2.35567202031  per day -70.6701606092 per month -860.409205417 per year\n",
        "83.0 -2.41458004387  per day -72.4374013161 per month -881.925361024 per year\n"
       ]
      }
     ],
     "prompt_number": 16
    },
    {
     "cell_type": "raw",
     "metadata": {},
     "source": []
    },
    {
     "cell_type": "code",
     "collapsed": false,
     "input": [],
     "language": "python",
     "metadata": {},
     "outputs": []
    }
   ],
   "metadata": {}
  }
 ]
}